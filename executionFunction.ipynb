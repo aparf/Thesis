{
 "cells": [
  {
   "cell_type": "code",
   "execution_count": null,
   "id": "8b56a42d",
   "metadata": {},
   "outputs": [
    {
     "name": "stdout",
     "output_type": "stream",
     "text": [
      "OTHR\n",
      "OTHR\n"
     ]
    },
    {
     "name": "stderr",
     "output_type": "stream",
     "text": [
      "Traceback (most recent call last):\n",
      "  File \"/home/vitalystepin0/./FitWeights-single-collection.py\", line 554, in <module>\n",
      "    results = processParallel(collection)\n",
      "  File \"/home/vitalystepin0/./FitWeights-single-collection.py\", line 498, in processParallel\n",
      "    openRarityResults = computeScores(transactionPath + collection + '.json', \n",
      "  File \"/home/vitalystepin0/./FitWeights-single-collection.py\", line 429, in computeScores\n",
      "    minimizationResults = fitWeights(salesDF_train, scoresDF)\n",
      "  File \"/home/vitalystepin0/./FitWeights-single-collection.py\", line 242, in fitWeights\n",
      "    pairwiseTransactions = getAllCombinationsNP(salesDFNumPy, blocksPerOneDay, numberOfDays)\n",
      "MemoryError: Allocation failed (probably too large).\n"
     ]
    }
   ],
   "source": [
    "import subprocess\n",
    "commands = ['python', './FitWeights-single-collection.py']\n",
    "\n",
    "collections = [\n",
    "               'LION', 'OTHR']\n",
    "n = 2 #the number of parallel processes you want\n",
    "for j in range(max(int(len(collections)/n), 1)):\n",
    "    preprocs = [commands + [i] for i in collections[j*n: min((j+1)*n, len(collections))] ]\n",
    "    procs = [subprocess.Popen(i) for i in preprocs]\n",
    "    for p in procs:\n",
    "        p.wait()"
   ]
  },
  {
   "cell_type": "code",
   "execution_count": 36,
   "id": "4799a8ee",
   "metadata": {},
   "outputs": [
    {
     "data": {
      "text/plain": [
       "['LION', 'KONGZ VX', 'OTHR']"
      ]
     },
     "execution_count": 36,
     "metadata": {},
     "output_type": "execute_result"
    }
   ],
   "source": [
    "problem = \"CYBERBROKERS\", \"OTHR\""
   ]
  },
  {
   "cell_type": "code",
   "execution_count": null,
   "id": "3b6fedf3",
   "metadata": {},
   "outputs": [],
   "source": [
    "!unzip dima-collections"
   ]
  },
  {
   "cell_type": "code",
   "execution_count": 20,
   "id": "38a3ca6f",
   "metadata": {},
   "outputs": [],
   "source": [
    "import os\n",
    "from os import listdir\n",
    "from os.path import isfile, join\n",
    "metadataPath =  'dima-collections/OpenRarityScores'"
   ]
  },
  {
   "cell_type": "code",
   "execution_count": 28,
   "id": "a3fae54b",
   "metadata": {},
   "outputs": [],
   "source": [
    "import numpy as np"
   ]
  },
  {
   "cell_type": "code",
   "execution_count": 23,
   "id": "c925c520",
   "metadata": {},
   "outputs": [],
   "source": [
    "metadataFiles = [f[:f.find(\"_\")] for f in listdir(metadataPath) if isfile(join(metadataPath, f))]"
   ]
  },
  {
   "cell_type": "code",
   "execution_count": 32,
   "id": "6da75f14",
   "metadata": {},
   "outputs": [],
   "source": [
    "collections = metadataFiles\n",
    "collections.remove('.DS')"
   ]
  },
  {
   "cell_type": "code",
   "execution_count": 33,
   "id": "9afc7e08",
   "metadata": {},
   "outputs": [
    {
     "data": {
      "text/plain": [
       "array([['VFT', 'AZUKI', 'TERRAFORMS', '0N1', 'HAPE', 'WGAME', 'PHB',\n",
       "        'KONGZ'],\n",
       "       ['FLUF', 'dotdotdot', 'MEEBITS', 'TOADZ', 'BAYC', 'DEADFELLAZ',\n",
       "        'DOGGY', 'KAIJU'],\n",
       "       ['NEOTI', 'MFER', 'MEKA', 'DOODLE', 'POETS', 'MOONBIRD', 'MAYC',\n",
       "        'CYBERBROKERS'],\n",
       "       ['BEANZ', 'PPG', 'BAKC', 'PAP', 'CloneX', 'CREATURE', 'GOBLIN',\n",
       "        '3L'],\n",
       "       ['COOL', 'WOW', 'INVSBLE', 'WOWG', 'GHOST', 'KARAFURU',\n",
       "        'ALIENFRENS', 'VOX']], dtype='<U12')"
      ]
     },
     "execution_count": 33,
     "metadata": {},
     "output_type": "execute_result"
    }
   ],
   "source": [
    "np.reshape(collections[:40], (-1, 8))"
   ]
  },
  {
   "cell_type": "code",
   "execution_count": 3,
   "id": "cba7ff52",
   "metadata": {},
   "outputs": [],
   "source": [
    "commands = ['python', './FitWeights-single-collection.py']"
   ]
  },
  {
   "cell_type": "code",
   "execution_count": 29,
   "id": "83055fe3",
   "metadata": {},
   "outputs": [],
   "source": [
    "for j in range(max(int(len(collections)/n), 1)):\n",
    "    a =[commands + [i] for i in collections[j*n: min((j+1)*n, len(collections))]]"
   ]
  },
  {
   "cell_type": "code",
   "execution_count": 5,
   "id": "ce059e1c",
   "metadata": {},
   "outputs": [],
   "source": [
    "# OPEPEN\n",
    "# NEOTI --> tournament score\n",
    "# VF2 --> missing file\n",
    "# CyberBrokers\n",
    "# abs\n",
    "# cat \n",
    "#neotoi --> tournmaent score\n",
    "# OTHR --> слишком болшой\n",
    "# NKMGS"
   ]
  },
  {
   "cell_type": "code",
   "execution_count": 12,
   "id": "d5a806c6",
   "metadata": {},
   "outputs": [],
   "source": [
    "commands = ['python', './FitWeights-single-collection.py']\n",
    "collection = 'SAPS'"
   ]
  },
  {
   "cell_type": "code",
   "execution_count": 10,
   "id": "323ee66c",
   "metadata": {},
   "outputs": [],
   "source": [
    "commands.append(\"SAPS\")"
   ]
  },
  {
   "cell_type": "code",
   "execution_count": 13,
   "id": "5ee4a4c8",
   "metadata": {},
   "outputs": [
    {
     "data": {
      "text/plain": [
       "['python', './FitWeights-single-collection.py', 'SAPS']"
      ]
     },
     "execution_count": 13,
     "metadata": {},
     "output_type": "execute_result"
    }
   ],
   "source": [
    "commands + ['SAPS']"
   ]
  },
  {
   "cell_type": "code",
   "execution_count": 6,
   "id": "4119de6a",
   "metadata": {},
   "outputs": [
    {
     "name": "stdout",
     "output_type": "stream",
     "text": [
      "WGAME\n",
      "WGAME\n",
      "starting minimization\n",
      "Optimization terminated successfully    (Exit mode 0)\n",
      "            Current function value: -0.7735776823888367\n",
      "            Iterations: 13\n",
      "            Function evaluations: 182\n",
      "            Gradient evaluations: 13\n",
      "starting minimization\n",
      "Optimization terminated successfully    (Exit mode 0)\n",
      "            Current function value: -0.7738356226371775\n",
      "            Iterations: 17\n",
      "            Function evaluations: 204\n",
      "            Gradient evaluations: 17\n",
      "starting minimization\n",
      "Optimization terminated successfully    (Exit mode 0)\n",
      "            Current function value: -0.7716563409269473\n",
      "            Iterations: 11\n",
      "            Function evaluations: 121\n",
      "            Gradient evaluations: 11\n",
      "SAPS\n",
      "SAPS\n",
      "starting minimization\n",
      "Optimization terminated successfully    (Exit mode 0)\n",
      "            Current function value: -0.39542416950502074\n",
      "            Iterations: 7\n",
      "            Function evaluations: 70\n",
      "            Gradient evaluations: 7\n",
      "starting minimization\n",
      "Optimization terminated successfully    (Exit mode 0)\n",
      "            Current function value: -0.4818970877563173\n",
      "            Iterations: 10\n",
      "            Function evaluations: 90\n",
      "            Gradient evaluations: 10\n",
      "starting minimization\n",
      "Optimization terminated successfully    (Exit mode 0)\n",
      "            Current function value: -0.462144376790679\n",
      "            Iterations: 8\n",
      "            Function evaluations: 59\n",
      "            Gradient evaluations: 8\n",
      "SUPERNORMAL\n",
      "SUPERNORMAL\n",
      "starting minimization\n",
      "Optimization terminated successfully    (Exit mode 0)\n",
      "            Current function value: -0.11081803327234867\n",
      "            Iterations: 16\n",
      "            Function evaluations: 265\n",
      "            Gradient evaluations: 16\n",
      "starting minimization\n",
      "Optimization terminated successfully    (Exit mode 0)\n",
      "            Current function value: -0.1129056868001268\n",
      "            Iterations: 25\n",
      "            Function evaluations: 388\n",
      "            Gradient evaluations: 25\n",
      "starting minimization\n",
      "Optimization terminated successfully    (Exit mode 0)\n",
      "            Current function value: -0.10536734574557083\n",
      "            Iterations: 16\n",
      "            Function evaluations: 214\n",
      "            Gradient evaluations: 16\n",
      "GLXY\n",
      "GLXY\n",
      "starting minimization\n",
      "Optimization terminated successfully    (Exit mode 0)\n",
      "            Current function value: -0.2733426225404992\n",
      "            Iterations: 15\n",
      "            Function evaluations: 258\n",
      "            Gradient evaluations: 15\n",
      "starting minimization\n",
      "Optimization terminated successfully    (Exit mode 0)\n",
      "            Current function value: -0.2723542735658172\n",
      "            Iterations: 10\n",
      "            Function evaluations: 160\n",
      "            Gradient evaluations: 10\n",
      "starting minimization\n",
      "Optimization terminated successfully    (Exit mode 0)\n",
      "            Current function value: -0.2813447947961159\n",
      "            Iterations: 18\n",
      "            Function evaluations: 261\n",
      "            Gradient evaluations: 18\n"
     ]
    }
   ],
   "source": [
    "commands = [['python', './FitWeights-single-collection.py', 'SAPS'],\n",
    "           ['python', './FitWeights-single-collection.py', 'WGAME'],\n",
    "           ['python', './FitWeights-single-collection.py', 'SUPERNORMAL'],\n",
    "           ['python', './FitWeights-single-collection.py', 'GLXY']]\n",
    "procs = [subprocess.Popen(i) for i in commands]\n",
    "\n",
    "for p in procs:\n",
    "    p.wait()"
   ]
  },
  {
   "cell_type": "code",
   "execution_count": null,
   "id": "a7a5c609",
   "metadata": {},
   "outputs": [],
   "source": []
  }
 ],
 "metadata": {
  "kernelspec": {
   "display_name": "Python 3 (ipykernel)",
   "language": "python",
   "name": "python3"
  },
  "language_info": {
   "codemirror_mode": {
    "name": "ipython",
    "version": 3
   },
   "file_extension": ".py",
   "mimetype": "text/x-python",
   "name": "python",
   "nbconvert_exporter": "python",
   "pygments_lexer": "ipython3",
   "version": "3.10.9"
  }
 },
 "nbformat": 4,
 "nbformat_minor": 5
}
