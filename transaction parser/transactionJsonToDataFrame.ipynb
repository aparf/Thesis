{
  "nbformat": 4,
  "nbformat_minor": 0,
  "metadata": {
    "colab": {
      "provenance": []
    },
    "kernelspec": {
      "name": "python3",
      "display_name": "Python 3"
    },
    "language_info": {
      "name": "python"
    }
  },
  "cells": [
    {
      "cell_type": "markdown",
      "metadata": {
        "id": "imGygbfgatfD"
      },
      "source": [
        "### Import"
      ]
    },
    {
      "cell_type": "code",
      "execution_count": null,
      "metadata": {
        "id": "MijAxOseatfI"
      },
      "outputs": [],
      "source": [
        "import requests\n",
        "import json\n",
        "import pandas as pd\n",
        "from google.colab import files"
      ]
    },
    {
      "cell_type": "markdown",
      "metadata": {
        "id": "cOrwjmJlatfJ"
      },
      "source": [
        "### Setup"
      ]
    },
    {
      "cell_type": "code",
      "execution_count": null,
      "metadata": {
        "id": "lXqGjWuvatfK"
      },
      "outputs": [],
      "source": [
        "with open('Clonex.json', \"r\") as file:\n",
        "    salesDF = jsonToDF(json.load(file))"
      ]
    },
    {
      "cell_type": "code",
      "source": [
        "def jsonToDF(data):\n",
        "    sales = []\n",
        "    for sale in data:\n",
        "        tempSale = dict()\n",
        "        tempSale.update(sale)\n",
        "        for fee in ['sellerFee', 'protocolFee', 'royaltyFee']:\n",
        "            if tempSale[fee]:\n",
        "                if 'tokenAddress' in tempSale[fee]:\n",
        "                    tempSale[fee+'Address'] = sale[fee]['tokenAddress']\n",
        "                else:\n",
        "                    tempSale[fee+'Address'] = None\n",
        "                tempSale[fee] = int(sale[fee]['amount'])\n",
        "        sales.append(tempSale)\n",
        "    salesDF = pd.DataFrame(sales)\n",
        "    salesDF[['protocolFee', 'royaltyFee']] = salesDF[['protocolFee', 'royaltyFee']].replace([{}], [0])\n",
        "    salesDF['Fee'] = (salesDF['sellerFee']) + (salesDF['protocolFee']) + (salesDF['royaltyFee'])\n",
        "    return salesDF"
      ],
      "metadata": {
        "id": "bhJMGSHJlZ4S"
      },
      "execution_count": null,
      "outputs": []
    },
    {
      "cell_type": "code",
      "source": [
        "salesDF.head()"
      ],
      "metadata": {
        "id": "dEbs5qiEliMT"
      },
      "execution_count": null,
      "outputs": []
    }
  ]
}